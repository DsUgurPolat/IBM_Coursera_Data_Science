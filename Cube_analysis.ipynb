{
    "cells": [
        {
            "cell_type": "code",
            "execution_count": 1,
            "metadata": {},
            "outputs": [
                {
                    "data": {
                        "text/html": "<div>\n<style scoped>\n    .dataframe tbody tr th:only-of-type {\n        vertical-align: middle;\n    }\n\n    .dataframe tbody tr th {\n        vertical-align: top;\n    }\n\n    .dataframe thead th {\n        text-align: right;\n    }\n</style>\n<table border=\"1\" class=\"dataframe\">\n  <thead>\n    <tr style=\"text-align: right;\">\n      <th></th>\n      <th>katalog_year</th>\n      <th>titel</th>\n      <th>unter_titel</th>\n      <th>artikelnummer</th>\n      <th>rahmen</th>\n      <th>farbe</th>\n      <th>gr\u00f6\u00dfe</th>\n      <th>gabel</th>\n      <th>d\u00e4mpfer</th>\n      <th>d\u00e4mpfer_hardware</th>\n      <th>...</th>\n      <th>scheinwerfer</th>\n      <th>r\u00fccklicht</th>\n      <th>st\u00e4nder</th>\n      <th>schutzbleche</th>\n      <th>glocke</th>\n      <th>r\u00fcckspiegel</th>\n      <th>motor</th>\n      <th>akku</th>\n      <th>display</th>\n      <th>gewicht</th>\n    </tr>\n  </thead>\n  <tbody>\n    <tr>\n      <th>0</th>\n      <td>2016</td>\n      <td>aerium C:62</td>\n      <td>SLT</td>\n      <td>787500</td>\n      <td>Aerium C:62 Monocoque Advanced Twin Mold Techn...</td>\n      <td>zeroblack</td>\n      <td>S, M, L, XL</td>\n      <td>CUBE Aerium C:62 Aero</td>\n      <td>Nicht</td>\n      <td>Nicht</td>\n      <td>...</td>\n      <td>Nicht</td>\n      <td>Nicht</td>\n      <td>Nicht</td>\n      <td>Nicht</td>\n      <td>Nicht</td>\n      <td>Nicht</td>\n      <td>Nicht</td>\n      <td>Nicht</td>\n      <td>Nicht</td>\n      <td>8.0 kg</td>\n    </tr>\n    <tr>\n      <th>1</th>\n      <td>2016</td>\n      <td>stereo 140 C:68</td>\n      <td>SLT 27.5</td>\n      <td>757500</td>\n      <td>C:68 Monocoque Advanced Twin Mold Technology, ...</td>\n      <td>zeroblack</td>\n      <td>16\", 18\", 20\", 22\"</td>\n      <td>Fox 34 Float FIT4 Factory, Open/Medium/Firm Mo...</td>\n      <td>Fox Float DPS Factory, 200x57mm, Open/Medium/F...</td>\n      <td>Top: 30x8mm, Bottom: 22x8mm</td>\n      <td>...</td>\n      <td>Nicht</td>\n      <td>Nicht</td>\n      <td>Nicht</td>\n      <td>Nicht</td>\n      <td>Nicht</td>\n      <td>Nicht</td>\n      <td>Nicht</td>\n      <td>Nicht</td>\n      <td>Nicht</td>\n      <td>11.65 kg</td>\n    </tr>\n    <tr>\n      <th>2</th>\n      <td>2016</td>\n      <td>Litening C:68</td>\n      <td>SLT</td>\n      <td>780500</td>\n      <td>C:68 Advanced Twin Mold Technology, Internal C...</td>\n      <td>zeroblack</td>\n      <td>50, 52, 54, 56, 58, 60, 62</td>\n      <td>CSL Evo C:68 Full Carbon Technology, 1 1/8 - 1...</td>\n      <td>Nicht</td>\n      <td>Nicht</td>\n      <td>...</td>\n      <td>Nicht</td>\n      <td>Nicht</td>\n      <td>Nicht</td>\n      <td>Nicht</td>\n      <td>Nicht</td>\n      <td>Nicht</td>\n      <td>Nicht</td>\n      <td>Nicht</td>\n      <td>Nicht</td>\n      <td>6.5 kg</td>\n    </tr>\n    <tr>\n      <th>3</th>\n      <td>2016</td>\n      <td>Elite C:68</td>\n      <td>SLT 29</td>\n      <td>717500</td>\n      <td>C:68 Monocoque Advanced Twin Mold Technology, ...</td>\n      <td>zeroblack</td>\n      <td>15\", 17\", 19\", 21\", 23\"</td>\n      <td>Rock Shox RS-1 Carbon Upside-Down, Hydraulic X...</td>\n      <td>Nicht</td>\n      <td>Nicht</td>\n      <td>...</td>\n      <td>Nicht</td>\n      <td>Nicht</td>\n      <td>Nicht</td>\n      <td>Nicht</td>\n      <td>Nicht</td>\n      <td>Nicht</td>\n      <td>Nicht</td>\n      <td>Nicht</td>\n      <td>Nicht</td>\n      <td>9.35 kg</td>\n    </tr>\n    <tr>\n      <th>4</th>\n      <td>2016</td>\n      <td>elite hybrid C:62</td>\n      <td>SLT 500 29</td>\n      <td>767500</td>\n      <td>C:62 Monocoque Advanced Twin Mold Technology</td>\n      <td>zeroblack</td>\n      <td>17\", 19\", 21\"</td>\n      <td>Rock Shox RS-1 Carbon Upside-Down, Hydraulic X...</td>\n      <td>Nicht</td>\n      <td>Nicht</td>\n      <td>...</td>\n      <td>Nicht</td>\n      <td>Nicht</td>\n      <td>Nicht</td>\n      <td>Nicht</td>\n      <td>Nicht</td>\n      <td>Nicht</td>\n      <td>Bosch Drive Unit Performance CX (75Nm) Cruise ...</td>\n      <td>Bosch Power Pack 500</td>\n      <td>Bosch Intuvia</td>\n      <td>17.0 kg</td>\n    </tr>\n  </tbody>\n</table>\n<p>5 rows \u00d7 46 columns</p>\n</div>",
                        "text/plain": "   katalog_year              titel unter_titel  artikelnummer  \\\n0          2016        aerium C:62         SLT         787500   \n1          2016    stereo 140 C:68    SLT 27.5         757500   \n2          2016      Litening C:68         SLT         780500   \n3          2016         Elite C:68      SLT 29         717500   \n4          2016  elite hybrid C:62  SLT 500 29         767500   \n\n                                              rahmen      farbe  \\\n0  Aerium C:62 Monocoque Advanced Twin Mold Techn...  zeroblack   \n1  C:68 Monocoque Advanced Twin Mold Technology, ...  zeroblack   \n2  C:68 Advanced Twin Mold Technology, Internal C...  zeroblack   \n3  C:68 Monocoque Advanced Twin Mold Technology, ...  zeroblack   \n4       C:62 Monocoque Advanced Twin Mold Technology  zeroblack   \n\n                        gr\u00f6\u00dfe  \\\n0                 S, M, L, XL   \n1          16\", 18\", 20\", 22\"   \n2  50, 52, 54, 56, 58, 60, 62   \n3     15\", 17\", 19\", 21\", 23\"   \n4               17\", 19\", 21\"   \n\n                                               gabel  \\\n0                              CUBE Aerium C:62 Aero   \n1  Fox 34 Float FIT4 Factory, Open/Medium/Firm Mo...   \n2  CSL Evo C:68 Full Carbon Technology, 1 1/8 - 1...   \n3  Rock Shox RS-1 Carbon Upside-Down, Hydraulic X...   \n4  Rock Shox RS-1 Carbon Upside-Down, Hydraulic X...   \n\n                                             d\u00e4mpfer  \\\n0                                              Nicht   \n1  Fox Float DPS Factory, 200x57mm, Open/Medium/F...   \n2                                              Nicht   \n3                                              Nicht   \n4                                              Nicht   \n\n              d\u00e4mpfer_hardware  ... scheinwerfer r\u00fccklicht st\u00e4nder  \\\n0                        Nicht  ...        Nicht     Nicht   Nicht   \n1  Top: 30x8mm, Bottom: 22x8mm  ...        Nicht     Nicht   Nicht   \n2                        Nicht  ...        Nicht     Nicht   Nicht   \n3                        Nicht  ...        Nicht     Nicht   Nicht   \n4                        Nicht  ...        Nicht     Nicht   Nicht   \n\n  schutzbleche glocke r\u00fcckspiegel  \\\n0        Nicht  Nicht       Nicht   \n1        Nicht  Nicht       Nicht   \n2        Nicht  Nicht       Nicht   \n3        Nicht  Nicht       Nicht   \n4        Nicht  Nicht       Nicht   \n\n                                               motor                  akku  \\\n0                                              Nicht                 Nicht   \n1                                              Nicht                 Nicht   \n2                                              Nicht                 Nicht   \n3                                              Nicht                 Nicht   \n4  Bosch Drive Unit Performance CX (75Nm) Cruise ...  Bosch Power Pack 500   \n\n         display   gewicht  \n0          Nicht    8.0 kg  \n1          Nicht  11.65 kg  \n2          Nicht    6.5 kg  \n3          Nicht   9.35 kg  \n4  Bosch Intuvia   17.0 kg  \n\n[5 rows x 46 columns]"
                    },
                    "execution_count": 1,
                    "metadata": {},
                    "output_type": "execute_result"
                }
            ],
            "source": "# The code was removed by Watson Studio for sharing."
        },
        {
            "cell_type": "code",
            "execution_count": null,
            "metadata": {},
            "outputs": [],
            "source": ""
        }
    ],
    "metadata": {
        "kernelspec": {
            "display_name": "Python 3.9",
            "language": "python",
            "name": "python3"
        },
        "language_info": {
            "codemirror_mode": {
                "name": "ipython",
                "version": 3
            },
            "file_extension": ".py",
            "mimetype": "text/x-python",
            "name": "python",
            "nbconvert_exporter": "python",
            "pygments_lexer": "ipython3",
            "version": "3.9.12"
        }
    },
    "nbformat": 4,
    "nbformat_minor": 1
}